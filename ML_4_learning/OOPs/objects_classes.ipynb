{
 "cells": [
  {
   "cell_type": "code",
   "execution_count": null,
   "metadata": {},
   "outputs": [],
   "source": [
    "#test1.ipynb has some prelims on  this topic...refer that"
   ]
  },
  {
   "cell_type": "markdown",
   "metadata": {},
   "source": [
    "## Inheritance in python"
   ]
  },
  {
   "cell_type": "markdown",
   "metadata": {},
   "source": [
    "Inhertiance allows us to inherit and use arrtibutes and methods from another class.\n",
    "\n",
    "Note: \\\"__init__\" is also a pre-defined function (also called \"method\") which alows us to intialize and define our class attributes. but it is not essential it shd be there in all class"
   ]
  },
  {
   "cell_type": "code",
   "execution_count": 32,
   "metadata": {},
   "outputs": [
    {
     "name": "stdout",
     "output_type": "stream",
     "text": [
      "the area of fig\n"
     ]
    }
   ],
   "source": [
    "class shape:\n",
    "    def area(self):\n",
    "        return \"the area of fig\"\n",
    "\n",
    "ar= shape() #this intializatio is the KEY!!\n",
    "print(ar.area())    #without __init__"
   ]
  },
  {
   "cell_type": "code",
   "execution_count": 9,
   "metadata": {},
   "outputs": [],
   "source": [
    "#Parent class\n",
    "class car:\n",
    "    def __init__(self, windows,doors, engine):\n",
    "        self.windows= windows #instance variable intialzization\n",
    "        self.doors=doors\n",
    "        self.engine= engine\n",
    "\n",
    "    #define an instance method\n",
    "    def drive(self):\n",
    "        print(f\"the person will drive the {self.engine}\")\n",
    "        \n",
    "\n",
    "\n",
    "    "
   ]
  },
  {
   "cell_type": "markdown",
   "metadata": {},
   "source": [
    "## CALLING THE OBJECT"
   ]
  },
  {
   "cell_type": "code",
   "execution_count": 10,
   "metadata": {},
   "outputs": [
    {
     "name": "stdout",
     "output_type": "stream",
     "text": [
      "the person will drive the petrol\n",
      "None\n",
      "the person will drive the petrol\n"
     ]
    }
   ],
   "source": [
    "car1= car(4,5,\"petrol\") #object call: intialize all the values of the car class...\n",
    "print(car1.drive()) #we are calling the instance method/function and printing the output\n",
    "#none is given becuz we dont \"return\" anything from the drive function\n",
    "\n",
    "car1.drive()"
   ]
  },
  {
   "cell_type": "markdown",
   "metadata": {},
   "source": [
    "### Testing inhertiance"
   ]
  },
  {
   "cell_type": "code",
   "execution_count": 16,
   "metadata": {},
   "outputs": [
    {
     "data": {
      "text/plain": [
       "' the super() helps as use the previous intialization instead of writing all \\nthe \"self.doors/windows/engine\" for calling parent attributes. we call __init__ method \\ndefined in the parent class to get all the attributes '"
      ]
     },
     "execution_count": 16,
     "metadata": {},
     "output_type": "execute_result"
    }
   ],
   "source": [
    "class Tesla(car): #we are making tesla class inherit the car class\n",
    "    def __init__(self, windows, doors, engine, is_selfdrive):\n",
    "        super().__init__(windows, doors, engine) \n",
    "        self.is_selfdrive= is_selfdrive\n",
    "\n",
    "    def selfdriving(self): #this self is like a master attribute that has all other attributes under it that can be use for this function\n",
    "        print(f\"tesla supports self driving: {self.is_selfdrive}\")\n",
    "\n",
    "\n",
    "''' the super() helps as use the previous intialization instead of writing all \n",
    "the \"self.doors/windows/engine\" for calling parent attributes. we call __init__ method \n",
    "defined in the parent class to get all the attributes '''\n",
    "\n"
   ]
  },
  {
   "cell_type": "code",
   "execution_count": 18,
   "metadata": {},
   "outputs": [
    {
     "name": "stdout",
     "output_type": "stream",
     "text": [
      "tesla supports self driving: True\n",
      "the person will drive the electric\n"
     ]
    }
   ],
   "source": [
    "tesla1= Tesla(4,5,\"electric\",True) #true/false is for self driving attribute value\n",
    "tesla1.selfdriving()\n",
    "\n",
    "#lets call parent class using tesla\n",
    "tesla1.drive()"
   ]
  },
  {
   "cell_type": "code",
   "execution_count": 22,
   "metadata": {},
   "outputs": [
    {
     "data": {
      "text/plain": [
       "5"
      ]
     },
     "execution_count": 22,
     "metadata": {},
     "output_type": "execute_result"
    }
   ],
   "source": [
    "tesla1.doors"
   ]
  },
  {
   "cell_type": "markdown",
   "metadata": {},
   "source": [
    "## Multiple inheritance\n",
    " when a class inherits from more than one base class"
   ]
  },
  {
   "cell_type": "code",
   "execution_count": 19,
   "metadata": {},
   "outputs": [
    {
     "data": {
      "text/plain": [
       "'here we have more than 1 parent class...so instead of usig the super() function\\nwe end up calling the parent classes using their names and __init__'"
      ]
     },
     "execution_count": 19,
     "metadata": {},
     "output_type": "execute_result"
    }
   ],
   "source": [
    "#base class 1\n",
    "\n",
    "class Animal:\n",
    "    def __init__(self, name):\n",
    "        self.name=name\n",
    "    \n",
    "    def speak(self):\n",
    "        print(\"subclasses mmust use this method\")\n",
    "        \n",
    "\n",
    "\n",
    "#base class 2:\n",
    "class Pet:\n",
    "    def __init__(self, owner):\n",
    "        self.owner=owner\n",
    "    \n",
    "#derived class\n",
    "class Dog(Animal, Pet): #call parent class\n",
    "    def __init__(self, name, owner):\n",
    "        Animal.__init__(self, name)\n",
    "        Pet. __init__(self, owner)\n",
    "\n",
    "    def speak(self):\n",
    "        return f\"{self.name} say woof\"\n",
    "\n",
    "'''here we have more than 1 parent class...so instead of usig the super() function\n",
    "we end up calling the parent classes using their names and __init__'''\n",
    "\n"
   ]
  },
  {
   "cell_type": "code",
   "execution_count": 21,
   "metadata": {},
   "outputs": [
    {
     "data": {
      "text/plain": [
       "'ash'"
      ]
     },
     "execution_count": 21,
     "metadata": {},
     "output_type": "execute_result"
    }
   ],
   "source": [
    "dog1 =Dog(\"doggy\", \"ash\")\n",
    "dog1.speak()\n"
   ]
  },
  {
   "cell_type": "code",
   "execution_count": 24,
   "metadata": {},
   "outputs": [
    {
     "name": "stdout",
     "output_type": "stream",
     "text": [
      "ash\n",
      "doggy\n"
     ]
    }
   ],
   "source": [
    "print(dog1.owner)\n",
    "print(dog1.name)"
   ]
  },
  {
   "cell_type": "markdown",
   "metadata": {},
   "source": [
    "# Polymorphism\n",
    "a concept in OOP, that allows objects of different clases to be treated as obkects of common super class"
   ]
  },
  {
   "cell_type": "markdown",
   "metadata": {},
   "source": [
    "## Instance method over riding\n",
    "\n",
    "method over riding allows a \"child class\" to provide an implementation of instance method that is already defined in parent class...\n",
    "basically, the method from child class takes precdence over its parent method"
   ]
  },
  {
   "cell_type": "code",
   "execution_count": null,
   "metadata": {},
   "outputs": [
    {
     "name": "stdout",
     "output_type": "stream",
     "text": [
      "meow\n",
      "woof!\n"
     ]
    },
    {
     "ename": "NameError",
     "evalue": "name 'doggy2' is not defined",
     "output_type": "error",
     "traceback": [
      "\u001b[1;31m---------------------------------------------------------------------------\u001b[0m",
      "\u001b[1;31mNameError\u001b[0m                                 Traceback (most recent call last)",
      "Cell \u001b[1;32mIn[30], line 23\u001b[0m\n\u001b[0;32m     20\u001b[0m \u001b[38;5;28mprint\u001b[39m(doggy\u001b[38;5;241m.\u001b[39mspeak())\n\u001b[0;32m     22\u001b[0m \u001b[38;5;66;03m#doggy2=Dog()\u001b[39;00m\n\u001b[1;32m---> 23\u001b[0m \u001b[38;5;28mprint\u001b[39m(\u001b[43mdoggy2\u001b[49m\u001b[38;5;241m.\u001b[39mspeak())\n",
      "\u001b[1;31mNameError\u001b[0m: name 'doggy2' is not defined"
     ]
    }
   ],
   "source": [
    "# base class -parent\n",
    "class Animal1:\n",
    "    def speak1(self):\n",
    "        return \"sound of animal\"\n",
    "\n",
    "#child class\n",
    "class Dog(Animal1):\n",
    "    def speak(self):\n",
    "        return \"woof!\"\n",
    "    \n",
    "#child clss2:\n",
    "class Cat(Animal1):\n",
    "    def speak(self):\n",
    "        return \"meow\"\n",
    "    \n",
    "cat=Cat()\n",
    "print(cat.speak())\n",
    "\n",
    "doggy=Dog()\n",
    "print(doggy.speak())\n",
    "\n",
    "#doggy2=Dog() #so defining is very important\n",
    "print(doggy2.speak())"
   ]
  },
  {
   "cell_type": "code",
   "execution_count": 33,
   "metadata": {},
   "outputs": [],
   "source": [
    "class Food:\n",
    "    def f_type(self):\n",
    "        return \"not liking it\"\n",
    "\n",
    "class Idli(Food):\n",
    "    def cuisine(self):\n",
    "        return \"south indian\"\n",
    "\n",
    "    def price(self):\n",
    "        return \"price is not known\"\n",
    "    "
   ]
  },
  {
   "cell_type": "markdown",
   "metadata": {},
   "source": [
    "### Polymorphism with methods and functions"
   ]
  },
  {
   "cell_type": "code",
   "execution_count": 36,
   "metadata": {},
   "outputs": [
    {
     "name": "stdout",
     "output_type": "stream",
     "text": [
      "not liking it\n",
      "south indian\n",
      "price is not known\n"
     ]
    }
   ],
   "source": [
    "food1= Food()\n",
    "food2=Idli()\n",
    "\n",
    "print(food1.f_type())\n",
    "\n",
    "print(food2.cuisine())\n",
    "print(food2.price())"
   ]
  },
  {
   "cell_type": "code",
   "execution_count": 7,
   "metadata": {},
   "outputs": [],
   "source": [
    "def exp(n):\n",
    "   for i in range(3):\n",
    "    return i**2\n"
   ]
  },
  {
   "cell_type": "code",
   "execution_count": 8,
   "metadata": {},
   "outputs": [
    {
     "data": {
      "text/plain": [
       "0"
      ]
     },
     "execution_count": 8,
     "metadata": {},
     "output_type": "execute_result"
    }
   ],
   "source": [
    "exp(3)"
   ]
  },
  {
   "cell_type": "markdown",
   "metadata": {},
   "source": [
    "### Closure functions, Decorators"
   ]
  },
  {
   "cell_type": "code",
   "execution_count": 19,
   "metadata": {},
   "outputs": [],
   "source": [
    "def m_wl(func, lst):\n",
    "    msg= \"welcome\"\n",
    "    def sub_wl():\n",
    "        print(\"hi this is ash\")\n",
    "        print(func(lst)) #a dummy func to define actual func later\n",
    "        print(\"This is the best\")\n",
    "    return sub_wl()"
   ]
  },
  {
   "cell_type": "code",
   "execution_count": 21,
   "metadata": {},
   "outputs": [
    {
     "name": "stdout",
     "output_type": "stream",
     "text": [
      "hi this is ash\n",
      "6\n",
      "This is the best\n",
      "hi this is ash\n",
      "15\n",
      "This is the best\n"
     ]
    }
   ],
   "source": [
    "m_wl(len,[1,2,3,4,4,5,])\n",
    "m_wl(sum, [1,2,3,4,5])"
   ]
  },
  {
   "cell_type": "markdown",
   "metadata": {},
   "source": [
    "# Enscapsulation and abstraction\n",
    "\n",
    "Enscapsulation: wrapping data variables and methods (functions) together as a single unit. It helps restrict access to some of he components of objects, so we can prevent misuse.\n",
    "\n",
    "SHown in the code below...age and name are private variables. As we can see in the next code block the dir() doesnt show the actual variable names of the attributes as they are held private. even the p1.name doesn't work becuz of this...\n",
    "\n",
    "Private variables can't be access outside the class. That is why we use getter/setter.\n",
    "PROTECTED VARIABLES: use \"_\" for defining. We cant access them outside class...but can access them via an inherting class."
   ]
  },
  {
   "cell_type": "code",
   "execution_count": 33,
   "metadata": {},
   "outputs": [
    {
     "name": "stdout",
     "output_type": "stream",
     "text": [
      "direct access to gender Male\n",
      "new private variable access:  magic\n"
     ]
    },
    {
     "ename": "NameError",
     "evalue": "name 'Employee' is not defined",
     "output_type": "error",
     "traceback": [
      "\u001b[1;31m---------------------------------------------------------------------------\u001b[0m",
      "\u001b[1;31mNameError\u001b[0m                                 Traceback (most recent call last)",
      "Cell \u001b[1;32mIn[33], line 24\u001b[0m\n\u001b[0;32m     21\u001b[0m \u001b[38;5;28;01mexcept\u001b[39;00m:\n\u001b[0;32m     22\u001b[0m     \u001b[38;5;28mprint\u001b[39m(\u001b[38;5;124m\"\u001b[39m\u001b[38;5;124mnew private variable access: \u001b[39m\u001b[38;5;124m\"\u001b[39m,p1\u001b[38;5;241m.\u001b[39m_Person__name)\n\u001b[1;32m---> 24\u001b[0m emp1\u001b[38;5;241m=\u001b[39m \u001b[43mEmployee\u001b[49m()\n\u001b[0;32m     25\u001b[0m \u001b[38;5;28mprint\u001b[39m(emp1\u001b[38;5;241m.\u001b[39mcity)\n",
      "\u001b[1;31mNameError\u001b[0m: name 'Employee' is not defined"
     ]
    }
   ],
   "source": [
    "# encapsulation with getter and setter\n",
    "#private variable is also called private access modifier\n",
    "\n",
    "class Person():\n",
    "    def __init__(self, name, age, gender,city):\n",
    "        self.__name=name #these name and age are not private variables. intialize them with \"__\".\n",
    "        self.__age=age\n",
    "        self.gender=gender #normal variable\n",
    "        self._city=city #city is a protected varuable defined using \"_\"\n",
    "    \n",
    "    def Employee(Person): #for protected variable calling\n",
    "        def __init__(self, name, age, gender, city):\n",
    "            super().__init__(name, age, gender,city) #dont use \"self\" in super().\n",
    "            \n",
    "\n",
    "p1=Person(\"magic\", 23, \"Male\", \"tokyo\")\n",
    "\n",
    "print(\"direct access to gender\", p1.gender)\n",
    "try:\n",
    "    print(\"normal try: \",p1.name)\n",
    "except:\n",
    "    print(\"new private variable access: \",p1._Person__name)\n",
    "\n",
    "emp1= Employee()\n",
    "print(emp1.city)\n",
    "\n",
    "      "
   ]
  },
  {
   "cell_type": "code",
   "execution_count": 23,
   "metadata": {},
   "outputs": [],
   "source": [
    "p1.Employee()"
   ]
  },
  {
   "cell_type": "code",
   "execution_count": 16,
   "metadata": {},
   "outputs": [
    {
     "data": {
      "text/plain": [
       "['Employee',\n",
       " '_Person__age',\n",
       " '_Person__name',\n",
       " '__class__',\n",
       " '__delattr__',\n",
       " '__dict__',\n",
       " '__dir__',\n",
       " '__doc__',\n",
       " '__eq__',\n",
       " '__format__',\n",
       " '__ge__',\n",
       " '__getattribute__',\n",
       " '__getstate__',\n",
       " '__gt__',\n",
       " '__hash__',\n",
       " '__init__',\n",
       " '__init_subclass__',\n",
       " '__le__',\n",
       " '__lt__',\n",
       " '__module__',\n",
       " '__ne__',\n",
       " '__new__',\n",
       " '__reduce__',\n",
       " '__reduce_ex__',\n",
       " '__repr__',\n",
       " '__setattr__',\n",
       " '__sizeof__',\n",
       " '__str__',\n",
       " '__subclasshook__',\n",
       " '__weakref__',\n",
       " '_city',\n",
       " 'gender']"
      ]
     },
     "execution_count": 16,
     "metadata": {},
     "output_type": "execute_result"
    }
   ],
   "source": [
    "dir(p1) #we can new names for private variables like name and age...but city and gender are still there as defined"
   ]
  },
  {
   "cell_type": "markdown",
   "metadata": {},
   "source": [
    "## Getter and setter for encapsulation"
   ]
  },
  {
   "cell_type": "code",
   "execution_count": 28,
   "metadata": {},
   "outputs": [],
   "source": [
    "class Person():\n",
    "    \n",
    "    def __init__(self, name, age):\n",
    "        self.__name=name #these name and age are not private variables. intialize them with \"__\".\n",
    "        self.__age=age\n",
    "\n",
    "    #getter for accessing the private variable\n",
    "    def get_name(self):\n",
    "        return self.__name\n",
    "    \n",
    "    #setter for changing the name\n",
    "    \n",
    "    def set_name(self, name):\n",
    "        self.__name=name\n",
    "        "
   ]
  },
  {
   "cell_type": "code",
   "execution_count": 32,
   "metadata": {},
   "outputs": [
    {
     "name": "stdout",
     "output_type": "stream",
     "text": [
      "krish\n",
      "ram\n"
     ]
    }
   ],
   "source": [
    "#getting the private variable and setting its value to new name\n",
    "\n",
    "p2= Person(\"krish\", 23)\n",
    "print(p2.get_name())\n",
    "p2.set_name(\"ram\")\n",
    "print(p2.get_name())"
   ]
  },
  {
   "cell_type": "markdown",
   "metadata": {},
   "source": [
    "## Abstraction in python\n",
    "hiding the complexities in implementation details and only show the imp. features of the object to reduce programming complexity"
   ]
  },
  {
   "cell_type": "code",
   "execution_count": 34,
   "metadata": {},
   "outputs": [],
   "source": [
    "from abc import ABC, abstractmethod\n",
    "\n",
    "class Shape(ABC):\n",
    "    @abstractmethod\n",
    "    def area(self):\n",
    "        pass  # Abstract method; no implementation here\\\n",
    "    \n",
    "class Circle(Shape):\n",
    "    def __init__(self, radius):\n",
    "        self.radius = radius\n",
    "    \n",
    "    def area(self):\n",
    "        return 3.14 * self.radius ** 2  # Implementation for circle area\n",
    "\n",
    "class Rectangle(Shape):\n",
    "    def __init__(self, width, height):\n",
    "        self.width = width\n",
    "        self.height = height\n",
    "    \n",
    "    def area(self):\n",
    "        return self.width * self.height  # Implementation for rectangle area\n"
   ]
  },
  {
   "cell_type": "code",
   "execution_count": 35,
   "metadata": {},
   "outputs": [
    {
     "name": "stdout",
     "output_type": "stream",
     "text": [
      "Area of Circle: 78.5\n",
      "Area of Rectangle: 24\n"
     ]
    }
   ],
   "source": [
    "circle = Circle(5)\n",
    "rectangle = Rectangle(4, 6)\n",
    "\n",
    "print(\"Area of Circle:\", circle.area())       # Output: Area of Circle: 78.5\n",
    "print(\"Area of Rectangle:\", rectangle.area())  # Output: Area of Rectangle: 24\n"
   ]
  },
  {
   "cell_type": "code",
   "execution_count": null,
   "metadata": {},
   "outputs": [],
   "source": []
  },
  {
   "cell_type": "code",
   "execution_count": null,
   "metadata": {},
   "outputs": [],
   "source": []
  },
  {
   "cell_type": "code",
   "execution_count": null,
   "metadata": {},
   "outputs": [],
   "source": []
  }
 ],
 "metadata": {
  "kernelspec": {
   "display_name": "Python 3",
   "language": "python",
   "name": "python3"
  },
  "language_info": {
   "codemirror_mode": {
    "name": "ipython",
    "version": 3
   },
   "file_extension": ".py",
   "mimetype": "text/x-python",
   "name": "python",
   "nbconvert_exporter": "python",
   "pygments_lexer": "ipython3",
   "version": "3.12.0"
  }
 },
 "nbformat": 4,
 "nbformat_minor": 2
}
